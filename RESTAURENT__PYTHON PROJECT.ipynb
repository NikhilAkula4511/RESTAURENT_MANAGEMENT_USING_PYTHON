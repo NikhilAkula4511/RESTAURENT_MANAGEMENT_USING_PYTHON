{
 "cells": [
  {
   "cell_type": "markdown",
   "id": "c46169c6",
   "metadata": {},
   "source": [
    "### Restaurent Using Functions"
   ]
  },
  {
   "cell_type": "code",
   "execution_count": 1,
   "id": "7b406180",
   "metadata": {},
   "outputs": [],
   "source": [
    "Menu={\"Vegies\":{\"vegbiryani\":250,\"paneerbiryani\":300,\"paneercurry\":250,\"cholemasala\":150,\"Aloo fry\":150,\"palakpaneer\":290},\\\n",
    "      \n",
    "      \"Starters\":{\"vegmanchuria\":160,\"chicken65\":300,\"muttontikka\":450,\"mushroom65\":320,\"shanghairoti\":280,\"babycorn65\":280},\n",
    "      \"Nonveg\":{\"chickenbiryani\":350, \"muttonbiryani\":400, \"chickencurry\":400,\"muttoncurry\":500,\"fishcurry\":600,\"chicken_burger\":200},\n",
    "     \"Sweets\":{\"doublekameeta\":90,\"applerabdi\":70,\"butter_laddu\":50,\"gulabjamoon\":45}}"
   ]
  },
  {
   "cell_type": "code",
   "execution_count": 2,
   "id": "e42fc04e",
   "metadata": {},
   "outputs": [
    {
     "name": "stdout",
     "output_type": "stream",
     "text": [
      "dict_keys(['Vegies', 'Starters', 'Nonveg', 'Sweets'])\n"
     ]
    }
   ],
   "source": [
    "print(Menu.keys())"
   ]
  },
  {
   "cell_type": "code",
   "execution_count": 3,
   "id": "750a56ed",
   "metadata": {},
   "outputs": [],
   "source": [
    "table_capacity={1:4,2:6,3:4,4:8,5:2,6:8,7:10,8:8,9:6,10:14,11:4}"
   ]
  },
  {
   "cell_type": "code",
   "execution_count": 4,
   "id": "b22415dc",
   "metadata": {},
   "outputs": [],
   "source": [
    "tables_ocupied={1:False,2:True,3:False,4:False,5:False,6:False,7:False,8:False,9:True,10:False,11:True}"
   ]
  },
  {
   "cell_type": "code",
   "execution_count": 5,
   "id": "ad1c1a9b",
   "metadata": {},
   "outputs": [],
   "source": [
    "waiter={\"E1\":[1,4,6,11],\"E2\":[2,3,10],\"E3\":[5,7,8,9]}"
   ]
  },
  {
   "cell_type": "code",
   "execution_count": 6,
   "id": "fd17e8e6",
   "metadata": {},
   "outputs": [],
   "source": [
    "def Menu_list():\n",
    "    print(\"List of Items in our Restaurent \")\n",
    "    print(\"\\nITEMS\\t\\t\\tPRICE\")\n",
    "    for category,items in Menu.items():\n",
    "        print(f\"\\n\\t  {category} \\n\")\n",
    "        for item,price in items.items():\n",
    "            \n",
    "            print(f\"{item}\\t\\t{price}\")"
   ]
  },
  {
   "cell_type": "code",
   "execution_count": 7,
   "id": "6feb3349",
   "metadata": {},
   "outputs": [
    {
     "name": "stdout",
     "output_type": "stream",
     "text": [
      "List of Items in our Restaurent \n",
      "\n",
      "ITEMS\t\t\tPRICE\n",
      "\n",
      "\t  Vegies \n",
      "\n",
      "vegbiryani\t\t250\n",
      "paneerbiryani\t\t300\n",
      "paneercurry\t\t250\n",
      "cholemasala\t\t150\n",
      "Aloo fry\t\t150\n",
      "palakpaneer\t\t290\n",
      "\n",
      "\t  Starters \n",
      "\n",
      "vegmanchuria\t\t160\n",
      "chicken65\t\t300\n",
      "muttontikka\t\t450\n",
      "mushroom65\t\t320\n",
      "shanghairoti\t\t280\n",
      "babycorn65\t\t280\n",
      "\n",
      "\t  Nonveg \n",
      "\n",
      "chickenbiryani\t\t350\n",
      "muttonbiryani\t\t400\n",
      "chickencurry\t\t400\n",
      "muttoncurry\t\t500\n",
      "fishcurry\t\t600\n",
      "chicken_burger\t\t200\n",
      "\n",
      "\t  Sweets \n",
      "\n",
      "doublekameeta\t\t90\n",
      "applerabdi\t\t70\n",
      "butter_laddu\t\t50\n",
      "gulabjamoon\t\t45\n"
     ]
    }
   ],
   "source": [
    "Menu_list()"
   ]
  },
  {
   "cell_type": "code",
   "execution_count": null,
   "id": "9ee8a9fe",
   "metadata": {},
   "outputs": [],
   "source": []
  },
  {
   "cell_type": "code",
   "execution_count": 39,
   "id": "2d5c5aac",
   "metadata": {},
   "outputs": [],
   "source": [
    "def assign_table():\n",
    "    n=int(input(\"NO.of people waiting outside : \"))\n",
    "    assigned=None\n",
    "    for table_num,capacity in table_capacity.items():\n",
    "        if capacity >=n and not  tables_ocupied[table_num]:\n",
    "            assigned = table_num\n",
    "            break\n",
    "    if assigned:\n",
    "        tables_ocupied[assigned]=True\n",
    "        print(f\"Assigning table  : {assigned}\")\n",
    "    else:\n",
    "        print(\"Sorry for inconvinience please wait a while we will right you back \")\n",
    "    def waiter_table():\n",
    "        table_num=assigned\n",
    "        for waite_r,table_handle in waiter.items():\n",
    "            if table_num in table_handle:\n",
    "                return waite_r    \n",
    "    a=waiter_table()\n",
    "    print(\"waiter is \", a)\n",
    "    return assigned  "
   ]
  },
  {
   "cell_type": "code",
   "execution_count": 40,
   "id": "49bc6b3e",
   "metadata": {},
   "outputs": [],
   "source": [
    "def clear_table(table_num):\n",
    "        if table_num in table_capacity:\n",
    "            if tables_ocupied[table_num]:\n",
    "                tables_ocupied[table_num]=False\n",
    "                print(f'table {table_num} is now vacant ')\n",
    "\n",
    "            else:\n",
    "                print(f'table {table_num} is already vacant ')\n",
    "        else:\n",
    "            print(\"invalid\")\n"
   ]
  },
  {
   "cell_type": "code",
   "execution_count": 41,
   "id": "1ce813d2",
   "metadata": {},
   "outputs": [],
   "source": [
    "def take_order():\n",
    "    order = []\n",
    "    while True:\n",
    "        item = input(\"Enter the item name (or 'done' to finish): \")\n",
    "        if item == \"done\":\n",
    "            break\n",
    "        item_found = False\n",
    "        for category, items in Menu.items():\n",
    "            if item in items:\n",
    "                order.append((category, item))\n",
    "                item_found = True\n",
    "                break\n",
    "        if not item_found:\n",
    "            print(\"Invalid item. Please try again.\")\n",
    "    return order"
   ]
  },
  {
   "cell_type": "code",
   "execution_count": null,
   "id": "a9e94e41",
   "metadata": {},
   "outputs": [],
   "source": [
    "\n"
   ]
  },
  {
   "cell_type": "code",
   "execution_count": 42,
   "id": "8c85eb89",
   "metadata": {},
   "outputs": [],
   "source": [
    "def feedbacck(user_rating):\n",
    "    feedback={1:\"Very Bad\",2:\"Bad service\", 3:\"Good \",\\\n",
    "             4:\"Good \", 5:\"Awsome\"}\n",
    "    print(f\"Rating of your restaurent is , {feedback.get(user_rating)}\")"
   ]
  },
  {
   "cell_type": "code",
   "execution_count": 44,
   "id": "c2746468",
   "metadata": {},
   "outputs": [
    {
     "name": "stdout",
     "output_type": "stream",
     "text": [
      "NO.of people waiting outside : 4\n",
      "Assigning table  : 1\n",
      "waiter is  E1\n",
      "Enter the item name (or 'done' to finish): done\n",
      "\t\tBill\t\n",
      "Restaurant: College Hub Restaurent-KPHB\n",
      "Time of Order: 2023-07-11 13:02:36.578714\n",
      "Items:\n",
      "TIP for my service \t$2\n",
      "Total Bill: \t\t$0\n",
      "GST (8%): \t\t$0.0\n",
      "Final Amount: \t\t$2.0\n",
      "\n",
      "Please Rate my Restaurent please :  2\n",
      "Rating of your restaurent is , Bad service\n",
      "table 1 is now vacant \n"
     ]
    }
   ],
   "source": [
    "import datetime \n",
    "def bill(order, table_num, restaurant_name):\n",
    "    print(\"\\t\\tBill\\t\")\n",
    "    print(f\"Restaurant: {restaurant_name}\")\n",
    "    print(f\"Time of Order: {datetime.datetime.now()}\")\n",
    "    print(\"Items:\")\n",
    "    total_bill = 0\n",
    "    for category, item in order:\n",
    "        price = Menu[category][item]\n",
    "        print(f\"{item}: \\t\\t${price}\")\n",
    "        total_bill += price\n",
    "    tip=int(input(f'TIP for my service \\t$'))\n",
    "    gst = total_bill * 0.08  # assuming 8% GST\n",
    "    print(f\"Total Bill: \\t\\t${total_bill}\")\n",
    "    print(f\"GST (8%): \\t\\t${gst}\")\n",
    "    print(f\"Final Amount: \\t\\t${total_bill + gst+tip}\")\n",
    "    print()\n",
    "    with open('order_data.txt', 'a') as file:\n",
    "        # Format the data as a string\n",
    "        data = f\"Waiter ID {waiter.get(table_num)} : \\nTable No: {table_num}\\nOrder Amount: {total_bill}\\nGST Amount: {gst}\\ntip_amount:{tip}\\n\"\n",
    "        # Write the data to the text file\n",
    "        file.write(data)\n",
    "    user_rating=int(input(\"Please Rate my Restaurent please :  \"))\n",
    "    feedbacck(user_rating)\n",
    "    clear_table(table_num=table_num)\n",
    "bill(restaurant_name=\"College Hub Restaurent-KPHB\",table_num=assign_table(),order=take_order())\n",
    "\n"
   ]
  },
  {
   "cell_type": "markdown",
   "id": "bf000840",
   "metadata": {},
   "source": [
    "### Restaurent using OOPS concept\n",
    "   \n",
    "    Restaurent management system using oops concept"
   ]
  },
  {
   "cell_type": "code",
   "execution_count": 26,
   "id": "97001102",
   "metadata": {},
   "outputs": [],
   "source": [
    "class Menu:\n",
    "    def __init__(self):\n",
    "        self.menu={\"Vegies\":{\"vegbiryani\":250,\"paneerbiryani\":300,\"paneercurry\":250,\"cholemasala\":150,\"Aloo fry\":150,\"palakpaneer\":290},\\\n",
    "      \n",
    "      \"Starters\":{\"vegmanchuria\":160,\"chicken65\":300,\"muttontikka\":450,\"mushroom65\":320,\"shanghairoti\":280,\"babycorn65\":280},\n",
    "      \"Nonveg\":{\"chickenbiryani\":350, \"muttonbiryani\":400, \"chickencurry\":400,\"muttoncurry\":500,\"fishcurry\":600,\"chicken_burger\":200},\n",
    "     \"Sweets\":{\"doublekameeta\":90,\"applerabdi\":70,\"butter_laddu\":50,\"gulabjamoon\":45}}\n",
    "    def display_Menu(self):\n",
    "        print(\"List of Items in our Restaurent \")\n",
    "        print(\"ITEMS\\t\\t\\tPRICE\")\n",
    "        for category,items in self.menu.items():\n",
    "            print(f\"\\n\\t  {category} \\n\")\n",
    "            for item,price in items.items():\n",
    "            \n",
    "             print(f\"{item}\\t\\t{price}\")\n",
    "class Table_manage:\n",
    "    def __init__(self):\n",
    "        self.table_capacity={1:4,2:6,3:4,4:8,5:2,6:8,7:10,8:8,9:6,10:14,11:4}\n",
    "        self.waiter={\"E1\":[1,4,6,11],\"E2\":[2,3,10],\"E3\":[5,7,8,9]}\n",
    "        self.tables_ocupied={1:False,2:True,3:False,4:False,5:False,6:False,7:False,8:False,9:True,10:False,11:True}\n",
    "    def assign_table(self):\n",
    "        self.n=int(input(\"NO.of people waiting outside : \"))\n",
    "        assigned=None\n",
    "        for table_num,capacity in self.table_capacity.items():\n",
    "            if capacity >=self.n and not  self.tables_ocupied[table_num]:\n",
    "                assigned = table_num\n",
    "                break\n",
    "        if assigned:\n",
    "            self.tables_ocupied[assigned]=True\n",
    "            print(f\"Assigning table  : {assigned}\")\n",
    "        else:\n",
    "            print(\"Sorry for inconvinience please wait a while we will right you back \")\n",
    "        \n",
    "        def waiter_table():\n",
    "            table_num=assigned\n",
    "            for waite_r,table_handle in waiter.items():\n",
    "                if table_num in table_handle:\n",
    "                    return waite_r    \n",
    "        a=waiter_table()\n",
    "        print(\"waiter is \", a)\n",
    "        return assigned  \n",
    "    def clear_table(self,table_num):\n",
    "        if table_num in self.table_capacity:\n",
    "            if self.tables_ocupied[table_num]:\n",
    "                self.tables_ocupied[table_num]=False\n",
    "                print(f'table {table_num} is now vacant ')\n",
    "\n",
    "            else:\n",
    "                print(f'table {table_num} is already vacant ')\n",
    "        else:\n",
    "            print(\"invalid\")\n",
    "waiter={\"E1\":[1,4,6,11],\"E2\":[2,3,10],\"E3\":[5,7,8,9]}\n",
    "class Order:\n",
    "    def take_order(self):\n",
    "        order = []\n",
    "        while True:\n",
    "            item = input(\"Enter the item name (or 'done' to finish): \")\n",
    "            if item == \"done\":\n",
    "                break\n",
    "            item_found = False\n",
    "            for category, items in menu.menu.items():\n",
    "                if item in items:\n",
    "                    order.append((category, item))\n",
    "                    item_found = True\n",
    "                    break\n",
    "            if not item_found:\n",
    "                print(\"Invalid item. Please try again.\")\n",
    "        return order\n",
    "class feedback:\n",
    "    def feedbacck(self,user_rating):\n",
    "        feedbackk={1:\"Very Bad\",2:\"Bad service\", 3:\"Good \",\\\n",
    "                 4:\"Good \", 5:\"Awsome\"}\n",
    "        print(f\"Rating of your restaurent is , {feedbackk.get(user_rating)}\")\n",
    "import datetime\n",
    "class Bill:\n",
    "    def bill(self,order, restaurant_name,**kwargs):\n",
    "        print(\"\\t\\tBill\\t\")\n",
    "        print(f\"Restaurant: {restaurant_name}\")\n",
    "        print(f\"Time of Order: {datetime.datetime.now()}\")\n",
    "        print(\"Items:\")\n",
    "        total_bill = 0\n",
    "        for category, item in order:\n",
    "            price = menu.menu[category][item]\n",
    "            print(f\"{item}: \\t\\t${price}\")\n",
    "            total_bill += price\n",
    "        tip=int(input(f'TIP for my service \\t$'))\n",
    "        gst = total_bill * 0.08  # assuming 8% GST\n",
    "        print(f\"Total Bill: \\t\\t${total_bill}\")\n",
    "        print(f\"GST (8%): \\t\\t${gst}\")\n",
    "        print(f\"Final Amount: \\t\\t${total_bill + gst+tip}\")\n",
    "        print()\n",
    "\n",
    "    "
   ]
  },
  {
   "cell_type": "code",
   "execution_count": 27,
   "id": "8d47aa36",
   "metadata": {},
   "outputs": [],
   "source": [
    "menu=Menu()\n",
    "table_mgmt=Table_manage()\n",
    "order=Order()\n",
    "bill=Bill()\n",
    "A=feedback()"
   ]
  },
  {
   "cell_type": "code",
   "execution_count": 30,
   "id": "d3ec6bcd",
   "metadata": {},
   "outputs": [
    {
     "name": "stdout",
     "output_type": "stream",
     "text": [
      "NO.of people waiting outside : 1\n",
      "Assigning table  : 1\n",
      "waiter is  E1\n",
      "Enter the item name (or 'done' to finish): done\n",
      "\t\tBill\t\n",
      "Restaurant: xyz\n",
      "Time of Order: 2023-07-11 12:59:43.860783\n",
      "Items:\n",
      "TIP for my service \t$3\n",
      "Total Bill: \t\t$0\n",
      "GST (8%): \t\t$0.0\n",
      "Final Amount: \t\t$3.0\n",
      "\n",
      "table 1 is now vacant \n"
     ]
    }
   ],
   "source": [
    "with open('order_data.txt', 'a') as file:\n",
    "    B=table_mgmt.assign_table()\n",
    "    C=bill.bill(order=order.take_order(),restaurant_name=\"xyz\")\n",
    "    table_mgmt.clear_table(table_num=B)\n",
    "    # Format the data as a string\n",
    "    data = f\"Waiter ID {waiter.get(B)} : \\nTable No: {B}\\nOrder Amount: {C}\\n\"\n",
    "            # Write the data to the text file\n",
    "    file.write(data)"
   ]
  },
  {
   "cell_type": "code",
   "execution_count": 31,
   "id": "188925c5",
   "metadata": {},
   "outputs": [
    {
     "name": "stdout",
     "output_type": "stream",
     "text": [
      "3\n",
      "Rating of your restaurent is , Good \n"
     ]
    }
   ],
   "source": [
    "A.feedbacck(user_rating=int(input()))"
   ]
  },
  {
   "cell_type": "code",
   "execution_count": null,
   "id": "ea3add8a",
   "metadata": {},
   "outputs": [],
   "source": []
  },
  {
   "cell_type": "code",
   "execution_count": null,
   "id": "9500e031",
   "metadata": {},
   "outputs": [],
   "source": []
  },
  {
   "cell_type": "code",
   "execution_count": null,
   "id": "c1d09ad7",
   "metadata": {},
   "outputs": [],
   "source": []
  }
 ],
 "metadata": {
  "kernelspec": {
   "display_name": "Python 3 (ipykernel)",
   "language": "python",
   "name": "python3"
  },
  "language_info": {
   "codemirror_mode": {
    "name": "ipython",
    "version": 3
   },
   "file_extension": ".py",
   "mimetype": "text/x-python",
   "name": "python",
   "nbconvert_exporter": "python",
   "pygments_lexer": "ipython3",
   "version": "3.11.3"
  }
 },
 "nbformat": 4,
 "nbformat_minor": 5
}
